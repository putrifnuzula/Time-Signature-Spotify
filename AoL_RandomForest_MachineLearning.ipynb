{
  "cells": [
    {
      "cell_type": "markdown",
      "metadata": {
        "id": "9bFuGRMcSgaQ"
      },
      "source": [
        "**Random Forest Classification**"
      ]
    },
    {
      "cell_type": "code",
      "execution_count": 14,
      "metadata": {
        "id": "lk5wMcEM1qSY"
      },
      "outputs": [],
      "source": [
        "import pandas as pd\n",
        "import numpy as np\n",
        "import seaborn as sns\n",
        "import matplotlib.pyplot as plt"
      ]
    },
    {
      "cell_type": "code",
      "execution_count": 2,
      "metadata": {
        "id": "BukpQ7Zy2IC4"
      },
      "outputs": [],
      "source": [
        "df=pd.read_csv('universal_top_spotify_songs.csv')"
      ]
    },
    {
      "cell_type": "markdown",
      "metadata": {
        "id": "ck2iOlVPSubY"
      },
      "source": [
        "**EDA**"
      ]
    },
    {
      "cell_type": "code",
      "execution_count": 3,
      "metadata": {
        "colab": {
          "base_uri": "https://localhost:8080/",
          "height": 429
        },
        "id": "l8lDwOUp2RmB",
        "outputId": "c81c6693-b46a-45b5-81d8-5f197599a303"
      },
      "outputs": [
        {
          "data": {
            "text/html": [
              "<div>\n",
              "<style scoped>\n",
              "    .dataframe tbody tr th:only-of-type {\n",
              "        vertical-align: middle;\n",
              "    }\n",
              "\n",
              "    .dataframe tbody tr th {\n",
              "        vertical-align: top;\n",
              "    }\n",
              "\n",
              "    .dataframe thead th {\n",
              "        text-align: right;\n",
              "    }\n",
              "</style>\n",
              "<table border=\"1\" class=\"dataframe\">\n",
              "  <thead>\n",
              "    <tr style=\"text-align: right;\">\n",
              "      <th></th>\n",
              "      <th>spotify_id</th>\n",
              "      <th>name</th>\n",
              "      <th>artists</th>\n",
              "      <th>daily_rank</th>\n",
              "      <th>daily_movement</th>\n",
              "      <th>weekly_movement</th>\n",
              "      <th>country</th>\n",
              "      <th>snapshot_date</th>\n",
              "      <th>popularity</th>\n",
              "      <th>is_explicit</th>\n",
              "      <th>...</th>\n",
              "      <th>key</th>\n",
              "      <th>loudness</th>\n",
              "      <th>mode</th>\n",
              "      <th>speechiness</th>\n",
              "      <th>acousticness</th>\n",
              "      <th>instrumentalness</th>\n",
              "      <th>liveness</th>\n",
              "      <th>valence</th>\n",
              "      <th>tempo</th>\n",
              "      <th>time_signature</th>\n",
              "    </tr>\n",
              "  </thead>\n",
              "  <tbody>\n",
              "    <tr>\n",
              "      <th>0</th>\n",
              "      <td>3rUGC1vUpkDG9CZFHMur1t</td>\n",
              "      <td>greedy</td>\n",
              "      <td>Tate McRae</td>\n",
              "      <td>1</td>\n",
              "      <td>2</td>\n",
              "      <td>0</td>\n",
              "      <td>NaN</td>\n",
              "      <td>2023-11-29</td>\n",
              "      <td>100</td>\n",
              "      <td>True</td>\n",
              "      <td>...</td>\n",
              "      <td>6</td>\n",
              "      <td>-3.180</td>\n",
              "      <td>0</td>\n",
              "      <td>0.0319</td>\n",
              "      <td>0.2560</td>\n",
              "      <td>0.000000</td>\n",
              "      <td>0.1140</td>\n",
              "      <td>0.844</td>\n",
              "      <td>111.018</td>\n",
              "      <td>1</td>\n",
              "    </tr>\n",
              "    <tr>\n",
              "      <th>1</th>\n",
              "      <td>3vkCueOmm7xQDoJ17W1Pm3</td>\n",
              "      <td>My Love Mine All Mine</td>\n",
              "      <td>Mitski</td>\n",
              "      <td>2</td>\n",
              "      <td>3</td>\n",
              "      <td>0</td>\n",
              "      <td>NaN</td>\n",
              "      <td>2023-11-29</td>\n",
              "      <td>97</td>\n",
              "      <td>False</td>\n",
              "      <td>...</td>\n",
              "      <td>9</td>\n",
              "      <td>-14.958</td>\n",
              "      <td>1</td>\n",
              "      <td>0.0321</td>\n",
              "      <td>0.8680</td>\n",
              "      <td>0.135000</td>\n",
              "      <td>0.1580</td>\n",
              "      <td>0.121</td>\n",
              "      <td>113.950</td>\n",
              "      <td>4</td>\n",
              "    </tr>\n",
              "    <tr>\n",
              "      <th>2</th>\n",
              "      <td>0bYg9bo50gSsH3LtXe2SQn</td>\n",
              "      <td>All I Want for Christmas Is You</td>\n",
              "      <td>Mariah Carey</td>\n",
              "      <td>3</td>\n",
              "      <td>-2</td>\n",
              "      <td>14</td>\n",
              "      <td>NaN</td>\n",
              "      <td>2023-11-29</td>\n",
              "      <td>93</td>\n",
              "      <td>False</td>\n",
              "      <td>...</td>\n",
              "      <td>7</td>\n",
              "      <td>-7.463</td>\n",
              "      <td>1</td>\n",
              "      <td>0.0384</td>\n",
              "      <td>0.1640</td>\n",
              "      <td>0.000000</td>\n",
              "      <td>0.0708</td>\n",
              "      <td>0.350</td>\n",
              "      <td>150.273</td>\n",
              "      <td>4</td>\n",
              "    </tr>\n",
              "    <tr>\n",
              "      <th>3</th>\n",
              "      <td>4xhsWYTOGcal8zt0J161CU</td>\n",
              "      <td>Lovin On Me</td>\n",
              "      <td>Jack Harlow</td>\n",
              "      <td>4</td>\n",
              "      <td>3</td>\n",
              "      <td>1</td>\n",
              "      <td>NaN</td>\n",
              "      <td>2023-11-29</td>\n",
              "      <td>93</td>\n",
              "      <td>True</td>\n",
              "      <td>...</td>\n",
              "      <td>2</td>\n",
              "      <td>-4.911</td>\n",
              "      <td>1</td>\n",
              "      <td>0.0568</td>\n",
              "      <td>0.0026</td>\n",
              "      <td>0.000002</td>\n",
              "      <td>0.0937</td>\n",
              "      <td>0.606</td>\n",
              "      <td>104.983</td>\n",
              "      <td>4</td>\n",
              "    </tr>\n",
              "    <tr>\n",
              "      <th>4</th>\n",
              "      <td>06qMRF18gwbOYYbnP2du6i</td>\n",
              "      <td>Last Christmas - Single Version</td>\n",
              "      <td>Wham!</td>\n",
              "      <td>5</td>\n",
              "      <td>-3</td>\n",
              "      <td>16</td>\n",
              "      <td>NaN</td>\n",
              "      <td>2023-11-29</td>\n",
              "      <td>81</td>\n",
              "      <td>False</td>\n",
              "      <td>...</td>\n",
              "      <td>2</td>\n",
              "      <td>-8.228</td>\n",
              "      <td>1</td>\n",
              "      <td>0.0278</td>\n",
              "      <td>0.2120</td>\n",
              "      <td>0.000004</td>\n",
              "      <td>0.1560</td>\n",
              "      <td>0.935</td>\n",
              "      <td>107.732</td>\n",
              "      <td>4</td>\n",
              "    </tr>\n",
              "  </tbody>\n",
              "</table>\n",
              "<p>5 rows × 25 columns</p>\n",
              "</div>"
            ],
            "text/plain": [
              "               spotify_id                             name       artists  \\\n",
              "0  3rUGC1vUpkDG9CZFHMur1t                           greedy    Tate McRae   \n",
              "1  3vkCueOmm7xQDoJ17W1Pm3            My Love Mine All Mine        Mitski   \n",
              "2  0bYg9bo50gSsH3LtXe2SQn  All I Want for Christmas Is You  Mariah Carey   \n",
              "3  4xhsWYTOGcal8zt0J161CU                      Lovin On Me   Jack Harlow   \n",
              "4  06qMRF18gwbOYYbnP2du6i  Last Christmas - Single Version         Wham!   \n",
              "\n",
              "   daily_rank  daily_movement  weekly_movement country snapshot_date  \\\n",
              "0           1               2                0     NaN    2023-11-29   \n",
              "1           2               3                0     NaN    2023-11-29   \n",
              "2           3              -2               14     NaN    2023-11-29   \n",
              "3           4               3                1     NaN    2023-11-29   \n",
              "4           5              -3               16     NaN    2023-11-29   \n",
              "\n",
              "   popularity  is_explicit  ...  key loudness mode  speechiness  acousticness  \\\n",
              "0         100         True  ...    6   -3.180    0       0.0319        0.2560   \n",
              "1          97        False  ...    9  -14.958    1       0.0321        0.8680   \n",
              "2          93        False  ...    7   -7.463    1       0.0384        0.1640   \n",
              "3          93         True  ...    2   -4.911    1       0.0568        0.0026   \n",
              "4          81        False  ...    2   -8.228    1       0.0278        0.2120   \n",
              "\n",
              "   instrumentalness  liveness  valence    tempo  time_signature  \n",
              "0          0.000000    0.1140    0.844  111.018               1  \n",
              "1          0.135000    0.1580    0.121  113.950               4  \n",
              "2          0.000000    0.0708    0.350  150.273               4  \n",
              "3          0.000002    0.0937    0.606  104.983               4  \n",
              "4          0.000004    0.1560    0.935  107.732               4  \n",
              "\n",
              "[5 rows x 25 columns]"
            ]
          },
          "execution_count": 3,
          "metadata": {},
          "output_type": "execute_result"
        }
      ],
      "source": [
        "df.head()"
      ]
    },
    {
      "cell_type": "code",
      "execution_count": 4,
      "metadata": {
        "colab": {
          "base_uri": "https://localhost:8080/"
        },
        "id": "dEH1bnh_2Wzk",
        "outputId": "dd3225f6-46e7-4ada-e3ce-124e450b040b"
      },
      "outputs": [
        {
          "name": "stdout",
          "output_type": "stream",
          "text": [
            "<class 'pandas.core.frame.DataFrame'>\n",
            "RangeIndex: 156483 entries, 0 to 156482\n",
            "Data columns (total 25 columns):\n",
            " #   Column              Non-Null Count   Dtype  \n",
            "---  ------              --------------   -----  \n",
            " 0   spotify_id          156483 non-null  object \n",
            " 1   name                156462 non-null  object \n",
            " 2   artists             156462 non-null  object \n",
            " 3   daily_rank          156483 non-null  int64  \n",
            " 4   daily_movement      156483 non-null  int64  \n",
            " 5   weekly_movement     156483 non-null  int64  \n",
            " 6   country             154377 non-null  object \n",
            " 7   snapshot_date       156483 non-null  object \n",
            " 8   popularity          156483 non-null  int64  \n",
            " 9   is_explicit         156483 non-null  bool   \n",
            " 10  duration_ms         156483 non-null  int64  \n",
            " 11  album_name          156452 non-null  object \n",
            " 12  album_release_date  156452 non-null  object \n",
            " 13  danceability        156483 non-null  float64\n",
            " 14  energy              156483 non-null  float64\n",
            " 15  key                 156483 non-null  int64  \n",
            " 16  loudness            156483 non-null  float64\n",
            " 17  mode                156483 non-null  int64  \n",
            " 18  speechiness         156483 non-null  float64\n",
            " 19  acousticness        156483 non-null  float64\n",
            " 20  instrumentalness    156483 non-null  float64\n",
            " 21  liveness            156483 non-null  float64\n",
            " 22  valence             156483 non-null  float64\n",
            " 23  tempo               156483 non-null  float64\n",
            " 24  time_signature      156483 non-null  int64  \n",
            "dtypes: bool(1), float64(9), int64(8), object(7)\n",
            "memory usage: 28.8+ MB\n"
          ]
        }
      ],
      "source": [
        "df.info()"
      ]
    },
    {
      "cell_type": "markdown",
      "metadata": {
        "id": "wSTpG9fVS02E"
      },
      "source": [
        "**Feature Engineeering**"
      ]
    },
    {
      "cell_type": "markdown",
      "metadata": {
        "id": "v-3bYC277Gwb"
      },
      "source": [
        "\n",
        "1. Handling missing value"
      ]
    },
    {
      "cell_type": "code",
      "execution_count": 5,
      "metadata": {
        "colab": {
          "base_uri": "https://localhost:8080/"
        },
        "id": "-CbbfTVv3HQj",
        "outputId": "d642bf54-63c4-4f59-8cfd-3531a48d2e3e"
      },
      "outputs": [
        {
          "data": {
            "text/plain": [
              "spotify_id               0\n",
              "name                    21\n",
              "artists                 21\n",
              "daily_rank               0\n",
              "daily_movement           0\n",
              "weekly_movement          0\n",
              "country               2106\n",
              "snapshot_date            0\n",
              "popularity               0\n",
              "is_explicit              0\n",
              "duration_ms              0\n",
              "album_name              31\n",
              "album_release_date      31\n",
              "danceability             0\n",
              "energy                   0\n",
              "key                      0\n",
              "loudness                 0\n",
              "mode                     0\n",
              "speechiness              0\n",
              "acousticness             0\n",
              "instrumentalness         0\n",
              "liveness                 0\n",
              "valence                  0\n",
              "tempo                    0\n",
              "time_signature           0\n",
              "dtype: int64"
            ]
          },
          "execution_count": 5,
          "metadata": {},
          "output_type": "execute_result"
        }
      ],
      "source": [
        "pd.isnull(df).sum()"
      ]
    },
    {
      "cell_type": "markdown",
      "metadata": {
        "id": "8JRwhP9KS8tG"
      },
      "source": [
        "2. Drop colums that are not really corelated with our model"
      ]
    },
    {
      "cell_type": "code",
      "execution_count": 6,
      "metadata": {
        "id": "_z5a5kES2iFa"
      },
      "outputs": [],
      "source": [
        "drop_columns = ['spotify_id', 'name', 'artists', 'daily_rank', 'daily_movement', 'weekly_movement', 'country', 'snapshot_date',\n",
        "                   'album_name', 'album_release_date', 'duration_ms', 'danceability', 'energy', 'loudness', 'speechiness',\n",
        "                   'acousticness', 'instrumentalness', 'liveness', 'valence','tempo']\n",
        "\n",
        "df_spotify = df.drop(columns = drop_columns)"
      ]
    },
    {
      "cell_type": "code",
      "execution_count": 7,
      "metadata": {
        "colab": {
          "base_uri": "https://localhost:8080/"
        },
        "id": "T-xcpRte7FmJ",
        "outputId": "94fa2e42-0534-4af2-ff7f-db370bedc0a6"
      },
      "outputs": [
        {
          "name": "stdout",
          "output_type": "stream",
          "text": [
            "<class 'pandas.core.frame.DataFrame'>\n",
            "RangeIndex: 156483 entries, 0 to 156482\n",
            "Data columns (total 5 columns):\n",
            " #   Column          Non-Null Count   Dtype\n",
            "---  ------          --------------   -----\n",
            " 0   popularity      156483 non-null  int64\n",
            " 1   is_explicit     156483 non-null  bool \n",
            " 2   key             156483 non-null  int64\n",
            " 3   mode            156483 non-null  int64\n",
            " 4   time_signature  156483 non-null  int64\n",
            "dtypes: bool(1), int64(4)\n",
            "memory usage: 4.9 MB\n"
          ]
        }
      ],
      "source": [
        "df_spotify.info()"
      ]
    },
    {
      "cell_type": "markdown",
      "metadata": {
        "id": "0yskF898QFja"
      },
      "source": [
        "3. Drop the rows into 1000 records"
      ]
    },
    {
      "cell_type": "code",
      "execution_count": 8,
      "metadata": {
        "id": "IN6XPP_2NuCf"
      },
      "outputs": [],
      "source": [
        "df_spotify = df_spotify.iloc[:1001]"
      ]
    },
    {
      "cell_type": "code",
      "execution_count": 9,
      "metadata": {
        "colab": {
          "base_uri": "https://localhost:8080/"
        },
        "id": "alQW-VSPPpc-",
        "outputId": "5007fc23-07ee-4981-8a6e-76f353e5ebbd"
      },
      "outputs": [
        {
          "data": {
            "text/plain": [
              "(1001, 5)"
            ]
          },
          "execution_count": 9,
          "metadata": {},
          "output_type": "execute_result"
        }
      ],
      "source": [
        "df_spotify.shape"
      ]
    },
    {
      "cell_type": "code",
      "execution_count": 10,
      "metadata": {
        "id": "cKPgIG3gsQJq"
      },
      "outputs": [],
      "source": [
        "#Encode the is_explicit column\n",
        "df_spotify['is_explicit'] = df_spotify['is_explicit'].astype(int)"
      ]
    },
    {
      "cell_type": "code",
      "execution_count": 11,
      "metadata": {
        "colab": {
          "base_uri": "https://localhost:8080/",
          "height": 206
        },
        "id": "HejMh5cZIzpd",
        "outputId": "179957bf-98b6-4ddc-8d16-b7a704240238"
      },
      "outputs": [
        {
          "data": {
            "text/html": [
              "<div>\n",
              "<style scoped>\n",
              "    .dataframe tbody tr th:only-of-type {\n",
              "        vertical-align: middle;\n",
              "    }\n",
              "\n",
              "    .dataframe tbody tr th {\n",
              "        vertical-align: top;\n",
              "    }\n",
              "\n",
              "    .dataframe thead th {\n",
              "        text-align: right;\n",
              "    }\n",
              "</style>\n",
              "<table border=\"1\" class=\"dataframe\">\n",
              "  <thead>\n",
              "    <tr style=\"text-align: right;\">\n",
              "      <th></th>\n",
              "      <th>popularity</th>\n",
              "      <th>is_explicit</th>\n",
              "      <th>key</th>\n",
              "      <th>mode</th>\n",
              "      <th>time_signature</th>\n",
              "    </tr>\n",
              "  </thead>\n",
              "  <tbody>\n",
              "    <tr>\n",
              "      <th>0</th>\n",
              "      <td>100</td>\n",
              "      <td>1</td>\n",
              "      <td>6</td>\n",
              "      <td>0</td>\n",
              "      <td>1</td>\n",
              "    </tr>\n",
              "    <tr>\n",
              "      <th>1</th>\n",
              "      <td>97</td>\n",
              "      <td>0</td>\n",
              "      <td>9</td>\n",
              "      <td>1</td>\n",
              "      <td>4</td>\n",
              "    </tr>\n",
              "    <tr>\n",
              "      <th>2</th>\n",
              "      <td>93</td>\n",
              "      <td>0</td>\n",
              "      <td>7</td>\n",
              "      <td>1</td>\n",
              "      <td>4</td>\n",
              "    </tr>\n",
              "    <tr>\n",
              "      <th>3</th>\n",
              "      <td>93</td>\n",
              "      <td>1</td>\n",
              "      <td>2</td>\n",
              "      <td>1</td>\n",
              "      <td>4</td>\n",
              "    </tr>\n",
              "    <tr>\n",
              "      <th>4</th>\n",
              "      <td>81</td>\n",
              "      <td>0</td>\n",
              "      <td>2</td>\n",
              "      <td>1</td>\n",
              "      <td>4</td>\n",
              "    </tr>\n",
              "  </tbody>\n",
              "</table>\n",
              "</div>"
            ],
            "text/plain": [
              "   popularity  is_explicit  key  mode  time_signature\n",
              "0         100            1    6     0               1\n",
              "1          97            0    9     1               4\n",
              "2          93            0    7     1               4\n",
              "3          93            1    2     1               4\n",
              "4          81            0    2     1               4"
            ]
          },
          "execution_count": 11,
          "metadata": {},
          "output_type": "execute_result"
        }
      ],
      "source": [
        "df_spotify.head()"
      ]
    },
    {
      "cell_type": "markdown",
      "metadata": {
        "id": "6mWAN8T7Kw2m"
      },
      "source": [
        "**Split Data into Train and Test Data**"
      ]
    },
    {
      "cell_type": "code",
      "execution_count": 15,
      "metadata": {},
      "outputs": [
        {
          "data": {
            "image/png": "[encoded data removed]",
            "text/plain": [
              "<Figure size 640x480 with 1 Axes>"
            ]
          },
          "metadata": {},
          "output_type": "display_data"
        }
      ],
      "source": [
        "ts_count = df['time_signature'].value_counts().reset_index()\n",
        "ts_count.columns = ['time_signature', 'count']\n",
        "\n",
        "colors = sns.color_palette('Set3', len(ts_count))\n",
        "\n",
        "plt.pie(ts_count['count'], labels=None, colors=colors)\n",
        "plt.legend(labels=ts_count['time_signature'], title=\"Time Signature\", loc=\"center left\", bbox_to_anchor=(1, 0.5))\n",
        "\n",
        "ts_donut = plt.Circle((0, 0), 0.7, color='white')\n",
        "ts = plt.gcf()\n",
        "ts.gca().add_artist(ts_donut)\n",
        "\n",
        "plt.show()"
      ]
    },
    {
      "cell_type": "code",
      "execution_count": 12,
      "metadata": {
        "id": "7ieJFntItF1O"
      },
      "outputs": [],
      "source": [
        "input_df = df_spotify.drop('time_signature',axis=1)\n",
        "output_df = df_spotify['time_signature']"
      ]
    },
    {
      "cell_type": "code",
      "execution_count": null,
      "metadata": {
        "id": "644sdZRe-UPT"
      },
      "outputs": [],
      "source": [
        "from sklearn.model_selection import train_test_split\n",
        "x_train, x_test, y_train, y_test = train_test_split(input_df, output_df, test_size = 0.2, random_state = 0)"
      ]
    },
    {
      "cell_type": "code",
      "execution_count": null,
      "metadata": {
        "colab": {
          "base_uri": "https://localhost:8080/",
          "height": 74
        },
        "id": "UtEryXRSsBfD",
        "outputId": "ff988dee-f145-4817-804a-c637aa060798"
      },
      "outputs": [
        {
          "data": {
            "text/html": [
              "<style>#sk-container-id-9 {color: black;background-color: white;}#sk-container-id-9 pre{padding: 0;}#sk-container-id-9 div.sk-toggleable {background-color: white;}#sk-container-id-9 label.sk-toggleable__label {cursor: pointer;display: block;width: 100%;margin-bottom: 0;padding: 0.3em;box-sizing: border-box;text-align: center;}#sk-container-id-9 label.sk-toggleable__label-arrow:before {content: \"▸\";float: left;margin-right: 0.25em;color: #696969;}#sk-container-id-9 label.sk-toggleable__label-arrow:hover:before {color: black;}#sk-container-id-9 div.sk-estimator:hover label.sk-toggleable__label-arrow:before {color: black;}#sk-container-id-9 div.sk-toggleable__content {max-height: 0;max-width: 0;overflow: hidden;text-align: left;background-color: #f0f8ff;}#sk-container-id-9 div.sk-toggleable__content pre {margin: 0.2em;color: black;border-radius: 0.25em;background-color: #f0f8ff;}#sk-container-id-9 input.sk-toggleable__control:checked~div.sk-toggleable__content {max-height: 200px;max-width: 100%;overflow: auto;}#sk-container-id-9 input.sk-toggleable__control:checked~label.sk-toggleable__label-arrow:before {content: \"▾\";}#sk-container-id-9 div.sk-estimator input.sk-toggleable__control:checked~label.sk-toggleable__label {background-color: #d4ebff;}#sk-container-id-9 div.sk-label input.sk-toggleable__control:checked~label.sk-toggleable__label {background-color: #d4ebff;}#sk-container-id-9 input.sk-hidden--visually {border: 0;clip: rect(1px 1px 1px 1px);clip: rect(1px, 1px, 1px, 1px);height: 1px;margin: -1px;overflow: hidden;padding: 0;position: absolute;width: 1px;}#sk-container-id-9 div.sk-estimator {font-family: monospace;background-color: #f0f8ff;border: 1px dotted black;border-radius: 0.25em;box-sizing: border-box;margin-bottom: 0.5em;}#sk-container-id-9 div.sk-estimator:hover {background-color: #d4ebff;}#sk-container-id-9 div.sk-parallel-item::after {content: \"\";width: 100%;border-bottom: 1px solid gray;flex-grow: 1;}#sk-container-id-9 div.sk-label:hover label.sk-toggleable__label {background-color: #d4ebff;}#sk-container-id-9 div.sk-serial::before {content: \"\";position: absolute;border-left: 1px solid gray;box-sizing: border-box;top: 0;bottom: 0;left: 50%;z-index: 0;}#sk-container-id-9 div.sk-serial {display: flex;flex-direction: column;align-items: center;background-color: white;padding-right: 0.2em;padding-left: 0.2em;position: relative;}#sk-container-id-9 div.sk-item {position: relative;z-index: 1;}#sk-container-id-9 div.sk-parallel {display: flex;align-items: stretch;justify-content: center;background-color: white;position: relative;}#sk-container-id-9 div.sk-item::before, #sk-container-id-9 div.sk-parallel-item::before {content: \"\";position: absolute;border-left: 1px solid gray;box-sizing: border-box;top: 0;bottom: 0;left: 50%;z-index: -1;}#sk-container-id-9 div.sk-parallel-item {display: flex;flex-direction: column;z-index: 1;position: relative;background-color: white;}#sk-container-id-9 div.sk-parallel-item:first-child::after {align-self: flex-end;width: 50%;}#sk-container-id-9 div.sk-parallel-item:last-child::after {align-self: flex-start;width: 50%;}#sk-container-id-9 div.sk-parallel-item:only-child::after {width: 0;}#sk-container-id-9 div.sk-dashed-wrapped {border: 1px dashed gray;margin: 0 0.4em 0.5em 0.4em;box-sizing: border-box;padding-bottom: 0.4em;background-color: white;}#sk-container-id-9 div.sk-label label {font-family: monospace;font-weight: bold;display: inline-block;line-height: 1.2em;}#sk-container-id-9 div.sk-label-container {text-align: center;}#sk-container-id-9 div.sk-container {/* jupyter's `normalize.less` sets `[hidden] { display: none; }` but bootstrap.min.css set `[hidden] { display: none !important; }` so we also need the `!important` here to be able to override the default hidden behavior on the sphinx rendered scikit-learn.org. See: https://github.com/scikit-learn/scikit-learn/issues/21755 */display: inline-block !important;position: relative;}#sk-container-id-9 div.sk-text-repr-fallback {display: none;}</style><div id=\"sk-container-id-9\" class=\"sk-top-container\"><div class=\"sk-text-repr-fallback\"><pre>RandomForestClassifier(max_depth=4)</pre><b>In a Jupyter environment, please rerun this cell to show the HTML representation or trust the notebook. <br />On GitHub, the HTML representation is unable to render, please try loading this page with nbviewer.org.</b></div><div class=\"sk-container\" hidden><div class=\"sk-item\"><div class=\"sk-estimator sk-toggleable\"><input class=\"sk-toggleable__control sk-hidden--visually\" id=\"sk-estimator-id-9\" type=\"checkbox\" checked><label for=\"sk-estimator-id-9\" class=\"sk-toggleable__label sk-toggleable__label-arrow\">RandomForestClassifier</label><div class=\"sk-toggleable__content\"><pre>RandomForestClassifier(max_depth=4)</pre></div></div></div></div></div>"
            ],
            "text/plain": [
              "RandomForestClassifier(max_depth=4)"
            ]
          },
          "execution_count": 165,
          "metadata": {},
          "output_type": "execute_result"
        }
      ],
      "source": [
        "from sklearn.ensemble import RandomForestClassifier\n",
        "import warnings\n",
        "warnings.filterwarnings('ignore')\n",
        "\n",
        "RF_class = RandomForestClassifier(criterion= 'gini',max_depth=4)\n",
        "RF_class.fit(x_train, y_train)"
      ]
    },
    {
      "cell_type": "code",
      "execution_count": null,
      "metadata": {
        "id": "EFiTbR1Z-eMy"
      },
      "outputs": [],
      "source": [
        "y_predict=RF_class.predict(x_test)"
      ]
    },
    {
      "cell_type": "code",
      "execution_count": null,
      "metadata": {
        "colab": {
          "base_uri": "https://localhost:8080/"
        },
        "id": "LM7evlqV-f6b",
        "outputId": "2da6331a-5ab2-4113-89ba-57a706ee33ab"
      },
      "outputs": [
        {
          "name": "stdout",
          "output_type": "stream",
          "text": [
            "\n",
            "Classification Report\n",
            "\n",
            "              precision    recall  f1-score   support\n",
            "\n",
            "           1       1.00      1.00      1.00         4\n",
            "           3       0.00      0.00      0.00        15\n",
            "           4       0.91      1.00      0.95       180\n",
            "           5       0.00      0.00      0.00         2\n",
            "\n",
            "    accuracy                           0.92       201\n",
            "   macro avg       0.48      0.50      0.49       201\n",
            "weighted avg       0.84      0.92      0.88       201\n",
            "\n"
          ]
        }
      ],
      "source": [
        "from sklearn.metrics import classification_report\n",
        "print('\\nClassification Report\\n')\n",
        "print(classification_report(y_test, y_predict, target_names=['1','3','4','5']))"
      ]
    },
    {
      "cell_type": "markdown",
      "metadata": {
        "id": "_m_4XiE7LDfS"
      },
      "source": [
        "**Hyperparamater Tuning using GridSearchCV**"
      ]
    },
    {
      "cell_type": "code",
      "execution_count": null,
      "metadata": {
        "id": "0Ft9AqIO-tqG"
      },
      "outputs": [],
      "source": [
        "from sklearn.model_selection import GridSearchCV\n",
        "\n",
        "parameters = {\n",
        "    'criterion':['gini', 'entropy', 'log_loss'],\n",
        "    'max_depth':[2,4,6,8],\n",
        "}"
      ]
    },
    {
      "cell_type": "code",
      "execution_count": null,
      "metadata": {
        "id": "_dzHYY46-7Ta"
      },
      "outputs": [],
      "source": [
        "RF_class2 = RandomForestClassifier()\n",
        "RF_class2= GridSearchCV(RF_class2 ,\n",
        "                            param_grid = parameters,   # hyperparameters\n",
        "                            scoring='accuracy',        # metric for scoring\n",
        "                            cv=5)"
      ]
    },
    {
      "cell_type": "code",
      "execution_count": null,
      "metadata": {
        "colab": {
          "base_uri": "https://localhost:8080/"
        },
        "id": "LvorZkA_-9Z6",
        "outputId": "e03b7025-f06c-4155-d40f-cab2d4db2fc7"
      },
      "outputs": [
        {
          "name": "stdout",
          "output_type": "stream",
          "text": [
            "Tuned Hyperparameters : {'criterion': 'gini', 'max_depth': 8}\n",
            "Accuracy : 0.9324999999999999\n"
          ]
        }
      ],
      "source": [
        "RF_class2.fit(x_train,y_train)\n",
        "print(\"Tuned Hyperparameters :\", RF_class2.best_params_)\n",
        "print(\"Accuracy :\",RF_class2.best_score_)"
      ]
    },
    {
      "cell_type": "code",
      "execution_count": null,
      "metadata": {
        "id": "-JMIn0kG--93"
      },
      "outputs": [],
      "source": [
        "#Train the data using based parameter\n",
        "RF_class_best = RandomForestClassifier(criterion= 'gini',max_depth=6)"
      ]
    },
    {
      "cell_type": "code",
      "execution_count": null,
      "metadata": {
        "colab": {
          "base_uri": "https://localhost:8080/",
          "height": 74
        },
        "id": "Y-olBYie_xoP",
        "outputId": "c308b50f-b5c0-4072-86b5-9aeba0cb0d20"
      },
      "outputs": [
        {
          "data": {
            "text/html": [
              "<style>#sk-container-id-11 {color: black;background-color: white;}#sk-container-id-11 pre{padding: 0;}#sk-container-id-11 div.sk-toggleable {background-color: white;}#sk-container-id-11 label.sk-toggleable__label {cursor: pointer;display: block;width: 100%;margin-bottom: 0;padding: 0.3em;box-sizing: border-box;text-align: center;}#sk-container-id-11 label.sk-toggleable__label-arrow:before {content: \"▸\";float: left;margin-right: 0.25em;color: #696969;}#sk-container-id-11 label.sk-toggleable__label-arrow:hover:before {color: black;}#sk-container-id-11 div.sk-estimator:hover label.sk-toggleable__label-arrow:before {color: black;}#sk-container-id-11 div.sk-toggleable__content {max-height: 0;max-width: 0;overflow: hidden;text-align: left;background-color: #f0f8ff;}#sk-container-id-11 div.sk-toggleable__content pre {margin: 0.2em;color: black;border-radius: 0.25em;background-color: #f0f8ff;}#sk-container-id-11 input.sk-toggleable__control:checked~div.sk-toggleable__content {max-height: 200px;max-width: 100%;overflow: auto;}#sk-container-id-11 input.sk-toggleable__control:checked~label.sk-toggleable__label-arrow:before {content: \"▾\";}#sk-container-id-11 div.sk-estimator input.sk-toggleable__control:checked~label.sk-toggleable__label {background-color: #d4ebff;}#sk-container-id-11 div.sk-label input.sk-toggleable__control:checked~label.sk-toggleable__label {background-color: #d4ebff;}#sk-container-id-11 input.sk-hidden--visually {border: 0;clip: rect(1px 1px 1px 1px);clip: rect(1px, 1px, 1px, 1px);height: 1px;margin: -1px;overflow: hidden;padding: 0;position: absolute;width: 1px;}#sk-container-id-11 div.sk-estimator {font-family: monospace;background-color: #f0f8ff;border: 1px dotted black;border-radius: 0.25em;box-sizing: border-box;margin-bottom: 0.5em;}#sk-container-id-11 div.sk-estimator:hover {background-color: #d4ebff;}#sk-container-id-11 div.sk-parallel-item::after {content: \"\";width: 100%;border-bottom: 1px solid gray;flex-grow: 1;}#sk-container-id-11 div.sk-label:hover label.sk-toggleable__label {background-color: #d4ebff;}#sk-container-id-11 div.sk-serial::before {content: \"\";position: absolute;border-left: 1px solid gray;box-sizing: border-box;top: 0;bottom: 0;left: 50%;z-index: 0;}#sk-container-id-11 div.sk-serial {display: flex;flex-direction: column;align-items: center;background-color: white;padding-right: 0.2em;padding-left: 0.2em;position: relative;}#sk-container-id-11 div.sk-item {position: relative;z-index: 1;}#sk-container-id-11 div.sk-parallel {display: flex;align-items: stretch;justify-content: center;background-color: white;position: relative;}#sk-container-id-11 div.sk-item::before, #sk-container-id-11 div.sk-parallel-item::before {content: \"\";position: absolute;border-left: 1px solid gray;box-sizing: border-box;top: 0;bottom: 0;left: 50%;z-index: -1;}#sk-container-id-11 div.sk-parallel-item {display: flex;flex-direction: column;z-index: 1;position: relative;background-color: white;}#sk-container-id-11 div.sk-parallel-item:first-child::after {align-self: flex-end;width: 50%;}#sk-container-id-11 div.sk-parallel-item:last-child::after {align-self: flex-start;width: 50%;}#sk-container-id-11 div.sk-parallel-item:only-child::after {width: 0;}#sk-container-id-11 div.sk-dashed-wrapped {border: 1px dashed gray;margin: 0 0.4em 0.5em 0.4em;box-sizing: border-box;padding-bottom: 0.4em;background-color: white;}#sk-container-id-11 div.sk-label label {font-family: monospace;font-weight: bold;display: inline-block;line-height: 1.2em;}#sk-container-id-11 div.sk-label-container {text-align: center;}#sk-container-id-11 div.sk-container {/* jupyter's `normalize.less` sets `[hidden] { display: none; }` but bootstrap.min.css set `[hidden] { display: none !important; }` so we also need the `!important` here to be able to override the default hidden behavior on the sphinx rendered scikit-learn.org. See: https://github.com/scikit-learn/scikit-learn/issues/21755 */display: inline-block !important;position: relative;}#sk-container-id-11 div.sk-text-repr-fallback {display: none;}</style><div id=\"sk-container-id-11\" class=\"sk-top-container\"><div class=\"sk-text-repr-fallback\"><pre>RandomForestClassifier(max_depth=6)</pre><b>In a Jupyter environment, please rerun this cell to show the HTML representation or trust the notebook. <br />On GitHub, the HTML representation is unable to render, please try loading this page with nbviewer.org.</b></div><div class=\"sk-container\" hidden><div class=\"sk-item\"><div class=\"sk-estimator sk-toggleable\"><input class=\"sk-toggleable__control sk-hidden--visually\" id=\"sk-estimator-id-11\" type=\"checkbox\" checked><label for=\"sk-estimator-id-11\" class=\"sk-toggleable__label sk-toggleable__label-arrow\">RandomForestClassifier</label><div class=\"sk-toggleable__content\"><pre>RandomForestClassifier(max_depth=6)</pre></div></div></div></div></div>"
            ],
            "text/plain": [
              "RandomForestClassifier(max_depth=6)"
            ]
          },
          "execution_count": 176,
          "metadata": {},
          "output_type": "execute_result"
        }
      ],
      "source": [
        "RF_class_best.fit(x_train,y_train)"
      ]
    },
    {
      "cell_type": "code",
      "execution_count": null,
      "metadata": {
        "id": "XB3JHRdb_zvK"
      },
      "outputs": [],
      "source": [
        "y_predict_best=RF_class_best.predict(x_test)"
      ]
    },
    {
      "cell_type": "code",
      "execution_count": null,
      "metadata": {
        "colab": {
          "base_uri": "https://localhost:8080/"
        },
        "id": "LCxg207C_6Q5",
        "outputId": "0076df87-c912-45b4-a3c4-9525c8cc8569"
      },
      "outputs": [
        {
          "name": "stdout",
          "output_type": "stream",
          "text": [
            "              precision    recall  f1-score   support\n",
            "\n",
            "           1       1.00      1.00      1.00         4\n",
            "           3       0.00      0.00      0.00        15\n",
            "           4       0.92      1.00      0.96       180\n",
            "           5       0.00      0.00      0.00         2\n",
            "\n",
            "    accuracy                           0.92       201\n",
            "   macro avg       0.48      0.50      0.49       201\n",
            "weighted avg       0.84      0.92      0.88       201\n",
            "\n"
          ]
        }
      ],
      "source": [
        "print(classification_report(y_test, y_predict_best, target_names=['1','3','4','5']))"
      ]
    },
    {
      "cell_type": "markdown",
      "metadata": {
        "id": "RXdAfWoYMWcP"
      },
      "source": [
        "**Model Evaluation:**\n",
        "\n",
        "\n",
        "From the report, we can conclude that the one using autotuned parameters (max-depth = 8) emerged as the most accurate model (93%), while the ones with tuned parameters (max-depth = 4 & 6) both achieved a 92% of accuracy level and both performed a good balance at predicting class 1."
      ]
    }
  ],
  "metadata": {
    "colab": {
      "provenance": []
    },
    "kernelspec": {
      "display_name": "Python 3",
      "name": "python3"
    },
    "language_info": {
      "codemirror_mode": {
        "name": "ipython",
        "version": 3
      },
      "file_extension": ".py",
      "mimetype": "text/x-python",
      "name": "python",
      "nbconvert_exporter": "python",
      "pygments_lexer": "ipython3",
      "version": "3.7.6"
    }
  },
  "nbformat": 4,
  "nbformat_minor": 0
}
